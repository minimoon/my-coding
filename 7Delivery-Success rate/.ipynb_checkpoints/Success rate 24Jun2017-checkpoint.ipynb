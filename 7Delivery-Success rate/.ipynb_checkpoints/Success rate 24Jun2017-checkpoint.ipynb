{
 "cells": [
  {
   "cell_type": "code",
   "execution_count": 52,
   "metadata": {
    "collapsed": false
   },
   "outputs": [
    {
     "data": {
      "text/plain": [
       "<pandas.io.excel.ExcelFile at 0x94cdc50>"
      ]
     },
     "execution_count": 52,
     "metadata": {},
     "output_type": "execute_result"
    }
   ],
   "source": [
    "#1 read csv\n",
    "#2 select remarks col\n",
    "#3 url open\n",
    "#4 collect link or scrape\n",
    "#5 insert after remark\n",
    "import numpy as np\n",
    "import pandas as pd\n",
    "from pandas import Series,DataFrame\n",
    "f = pd.ExcelFile('TH_7-eleven 14-18 Dec.xls')\n",
    "f"
   ]
  },
  {
   "cell_type": "code",
   "execution_count": 53,
   "metadata": {
    "collapsed": false
   },
   "outputs": [
    {
     "data": {
      "text/html": [
       "<div>\n",
       "<table border=\"1\" class=\"dataframe\">\n",
       "  <thead>\n",
       "    <tr style=\"text-align: right;\">\n",
       "      <th></th>\n",
       "      <th>creation_time</th>\n",
       "      <th>TH_time</th>\n",
       "      <th>distance_source</th>\n",
       "      <th>passenger1_id</th>\n",
       "      <th>passenger1_name</th>\n",
       "      <th>remarks</th>\n",
       "      <th>state</th>\n",
       "    </tr>\n",
       "  </thead>\n",
       "  <tbody>\n",
       "    <tr>\n",
       "      <th>0</th>\n",
       "      <td>2016-12-14 06:24:09</td>\n",
       "      <td>2016-12-14 13:24:09</td>\n",
       "      <td>IPHONE2-POI</td>\n",
       "      <td>7066160</td>\n",
       "      <td>Wilaiwan Dhrammajariyapong</td>\n",
       "      <td>กรุณาแสดงข้อมูลในลิงค์นี้ให้พนักงาน 7-Eleven. ...</td>\n",
       "      <td>COMPLETED</td>\n",
       "    </tr>\n",
       "    <tr>\n",
       "      <th>1</th>\n",
       "      <td>2016-12-14 07:21:47</td>\n",
       "      <td>2016-12-14 14:21:47</td>\n",
       "      <td>ANDROID2-POI</td>\n",
       "      <td>2247921</td>\n",
       "      <td>Kai</td>\n",
       "      <td>NaN</td>\n",
       "      <td>COMPLETED</td>\n",
       "    </tr>\n",
       "    <tr>\n",
       "      <th>2</th>\n",
       "      <td>2016-12-14 07:31:22</td>\n",
       "      <td>2016-12-14 14:31:22</td>\n",
       "      <td>ANDROID2-POI</td>\n",
       "      <td>455541</td>\n",
       "      <td>Tee</td>\n",
       "      <td>กรุณาแสดงข้อมูลในลิงค์นี้ให้พนักงาน 7-Eleven. ...</td>\n",
       "      <td>COMPLETED</td>\n",
       "    </tr>\n",
       "    <tr>\n",
       "      <th>3</th>\n",
       "      <td>2016-12-14 07:40:07</td>\n",
       "      <td>2016-12-14 14:40:07</td>\n",
       "      <td>ANDROID2-POI</td>\n",
       "      <td>6862205</td>\n",
       "      <td>Poyroi Ka</td>\n",
       "      <td>กรุณาแสดงข้อมูลในลิงค์นี้ให้พนักงาน 7-Eleven. ...</td>\n",
       "      <td>COMPLETED</td>\n",
       "    </tr>\n",
       "    <tr>\n",
       "      <th>4</th>\n",
       "      <td>2016-12-14 07:44:38</td>\n",
       "      <td>2016-12-14 14:44:38</td>\n",
       "      <td>ANDROID2-POI</td>\n",
       "      <td>12278436</td>\n",
       "      <td>Care</td>\n",
       "      <td>NaN</td>\n",
       "      <td>COMPLETED</td>\n",
       "    </tr>\n",
       "  </tbody>\n",
       "</table>\n",
       "</div>"
      ],
      "text/plain": [
       "        creation_time             TH_time distance_source  passenger1_id  \\\n",
       "0 2016-12-14 06:24:09 2016-12-14 13:24:09     IPHONE2-POI        7066160   \n",
       "1 2016-12-14 07:21:47 2016-12-14 14:21:47    ANDROID2-POI        2247921   \n",
       "2 2016-12-14 07:31:22 2016-12-14 14:31:22    ANDROID2-POI         455541   \n",
       "3 2016-12-14 07:40:07 2016-12-14 14:40:07    ANDROID2-POI        6862205   \n",
       "4 2016-12-14 07:44:38 2016-12-14 14:44:38    ANDROID2-POI       12278436   \n",
       "\n",
       "              passenger1_name  \\\n",
       "0  Wilaiwan Dhrammajariyapong   \n",
       "1                         Kai   \n",
       "2                         Tee   \n",
       "3                   Poyroi Ka   \n",
       "4                        Care   \n",
       "\n",
       "                                             remarks      state  \n",
       "0  กรุณาแสดงข้อมูลในลิงค์นี้ให้พนักงาน 7-Eleven. ...  COMPLETED  \n",
       "1                                                NaN  COMPLETED  \n",
       "2  กรุณาแสดงข้อมูลในลิงค์นี้ให้พนักงาน 7-Eleven. ...  COMPLETED  \n",
       "3  กรุณาแสดงข้อมูลในลิงค์นี้ให้พนักงาน 7-Eleven. ...  COMPLETED  \n",
       "4                                                NaN  COMPLETED  "
      ]
     },
     "execution_count": 53,
     "metadata": {},
     "output_type": "execute_result"
    }
   ],
   "source": [
    "seven_file = f.parse('Sheet1')\n",
    "seven_file.head()"
   ]
  },
  {
   "cell_type": "code",
   "execution_count": 54,
   "metadata": {
    "collapsed": false
   },
   "outputs": [
    {
     "data": {
      "text/plain": [
       "42"
      ]
     },
     "execution_count": 54,
     "metadata": {},
     "output_type": "execute_result"
    }
   ],
   "source": [
    "seven_file.remarks.count()"
   ]
  },
  {
   "cell_type": "code",
   "execution_count": 55,
   "metadata": {
    "collapsed": false
   },
   "outputs": [
    {
     "data": {
      "text/plain": [
       "0   2016-12-14 13:24:09\n",
       "1   2016-12-14 14:21:47\n",
       "2   2016-12-14 14:31:22\n",
       "3   2016-12-14 14:40:07\n",
       "4   2016-12-14 14:44:38\n",
       "Name: TH_time, dtype: datetime64[ns]"
      ]
     },
     "execution_count": 55,
     "metadata": {},
     "output_type": "execute_result"
    }
   ],
   "source": [
    "seven_file['TH_time'].head()"
   ]
  },
  {
   "cell_type": "code",
   "execution_count": 56,
   "metadata": {
    "collapsed": false
   },
   "outputs": [
    {
     "data": {
      "text/plain": [
       "u'\\u0e01\\u0e23\\u0e38\\u0e13\\u0e32\\u0e41\\u0e2a\\u0e14\\u0e07\\u0e02\\u0e49\\u0e2d\\u0e21\\u0e39\\u0e25\\u0e43\\u0e19\\u0e25\\u0e34\\u0e07\\u0e04\\u0e4c\\u0e19\\u0e35\\u0e49\\u0e43\\u0e2b\\u0e49\\u0e1e\\u0e19\\u0e31\\u0e01\\u0e07\\u0e32\\u0e19 7-Eleven. https://goo.gl/TNxAVM'"
      ]
     },
     "execution_count": 56,
     "metadata": {},
     "output_type": "execute_result"
    }
   ],
   "source": [
    "seven_file.remarks[2]"
   ]
  },
  {
   "cell_type": "code",
   "execution_count": 57,
   "metadata": {
    "collapsed": true
   },
   "outputs": [],
   "source": [
    "import urllib2"
   ]
  },
  {
   "cell_type": "code",
   "execution_count": 58,
   "metadata": {
    "collapsed": false
   },
   "outputs": [
    {
     "data": {
      "text/plain": [
       "u'https://goo.gl/TNxAVM'"
      ]
     },
     "execution_count": 58,
     "metadata": {},
     "output_type": "execute_result"
    }
   ],
   "source": [
    "seven_file.remarks[2].split('7-Eleven. ')[1]"
   ]
  },
  {
   "cell_type": "code",
   "execution_count": 59,
   "metadata": {
    "collapsed": false
   },
   "outputs": [],
   "source": [
    "def readfile(n):\n",
    "    f = urllib2.urlopen(seven_file.remarks[n].split('7-Eleven. ')[1])\n",
    "    page = f.read()\n",
    "    return page.split('<p>Order ID</p>\\n      <h2>')[1].split('<')[0]"
   ]
  },
  {
   "cell_type": "code",
   "execution_count": 65,
   "metadata": {
    "collapsed": false
   },
   "outputs": [
    {
     "name": "stdout",
     "output_type": "stream",
     "text": [
      "tHTEYDl7tS\n"
     ]
    }
   ],
   "source": [
    "s =readfile(6)\n",
    "print s"
   ]
  },
  {
   "cell_type": "markdown",
   "metadata": {},
   "source": [
    "if seven_file['remarks'].isnull:\n",
    "    print 'null'\n",
    "else:\n",
    "    print 'not null'"
   ]
  },
  {
   "cell_type": "code",
   "execution_count": 66,
   "metadata": {
    "collapsed": false
   },
   "outputs": [
    {
     "data": {
      "text/html": [
       "<div>\n",
       "<table border=\"1\" class=\"dataframe\">\n",
       "  <thead>\n",
       "    <tr style=\"text-align: right;\">\n",
       "      <th></th>\n",
       "      <th>creation_time</th>\n",
       "      <th>TH_time</th>\n",
       "      <th>distance_source</th>\n",
       "      <th>passenger1_id</th>\n",
       "      <th>passenger1_name</th>\n",
       "      <th>remarks</th>\n",
       "      <th>state</th>\n",
       "    </tr>\n",
       "  </thead>\n",
       "  <tbody>\n",
       "    <tr>\n",
       "      <th>0</th>\n",
       "      <td>2016-12-14 06:24:09</td>\n",
       "      <td>2016-12-14 13:24:09</td>\n",
       "      <td>IPHONE2-POI</td>\n",
       "      <td>7066160</td>\n",
       "      <td>Wilaiwan Dhrammajariyapong</td>\n",
       "      <td>กรุณาแสดงข้อมูลในลิงค์นี้ให้พนักงาน 7-Eleven. ...</td>\n",
       "      <td>COMPLETED</td>\n",
       "    </tr>\n",
       "    <tr>\n",
       "      <th>1</th>\n",
       "      <td>2016-12-14 07:21:47</td>\n",
       "      <td>2016-12-14 14:21:47</td>\n",
       "      <td>ANDROID2-POI</td>\n",
       "      <td>2247921</td>\n",
       "      <td>Kai</td>\n",
       "      <td>NaN</td>\n",
       "      <td>COMPLETED</td>\n",
       "    </tr>\n",
       "    <tr>\n",
       "      <th>2</th>\n",
       "      <td>2016-12-14 07:31:22</td>\n",
       "      <td>2016-12-14 14:31:22</td>\n",
       "      <td>ANDROID2-POI</td>\n",
       "      <td>455541</td>\n",
       "      <td>Tee</td>\n",
       "      <td>กรุณาแสดงข้อมูลในลิงค์นี้ให้พนักงาน 7-Eleven. ...</td>\n",
       "      <td>COMPLETED</td>\n",
       "    </tr>\n",
       "    <tr>\n",
       "      <th>3</th>\n",
       "      <td>2016-12-14 07:40:07</td>\n",
       "      <td>2016-12-14 14:40:07</td>\n",
       "      <td>ANDROID2-POI</td>\n",
       "      <td>6862205</td>\n",
       "      <td>Poyroi Ka</td>\n",
       "      <td>กรุณาแสดงข้อมูลในลิงค์นี้ให้พนักงาน 7-Eleven. ...</td>\n",
       "      <td>COMPLETED</td>\n",
       "    </tr>\n",
       "    <tr>\n",
       "      <th>4</th>\n",
       "      <td>2016-12-14 07:44:38</td>\n",
       "      <td>2016-12-14 14:44:38</td>\n",
       "      <td>ANDROID2-POI</td>\n",
       "      <td>12278436</td>\n",
       "      <td>Care</td>\n",
       "      <td>NaN</td>\n",
       "      <td>COMPLETED</td>\n",
       "    </tr>\n",
       "  </tbody>\n",
       "</table>\n",
       "</div>"
      ],
      "text/plain": [
       "        creation_time             TH_time distance_source  passenger1_id  \\\n",
       "0 2016-12-14 06:24:09 2016-12-14 13:24:09     IPHONE2-POI        7066160   \n",
       "1 2016-12-14 07:21:47 2016-12-14 14:21:47    ANDROID2-POI        2247921   \n",
       "2 2016-12-14 07:31:22 2016-12-14 14:31:22    ANDROID2-POI         455541   \n",
       "3 2016-12-14 07:40:07 2016-12-14 14:40:07    ANDROID2-POI        6862205   \n",
       "4 2016-12-14 07:44:38 2016-12-14 14:44:38    ANDROID2-POI       12278436   \n",
       "\n",
       "              passenger1_name  \\\n",
       "0  Wilaiwan Dhrammajariyapong   \n",
       "1                         Kai   \n",
       "2                         Tee   \n",
       "3                   Poyroi Ka   \n",
       "4                        Care   \n",
       "\n",
       "                                             remarks      state  \n",
       "0  กรุณาแสดงข้อมูลในลิงค์นี้ให้พนักงาน 7-Eleven. ...  COMPLETED  \n",
       "1                                                NaN  COMPLETED  \n",
       "2  กรุณาแสดงข้อมูลในลิงค์นี้ให้พนักงาน 7-Eleven. ...  COMPLETED  \n",
       "3  กรุณาแสดงข้อมูลในลิงค์นี้ให้พนักงาน 7-Eleven. ...  COMPLETED  \n",
       "4                                                NaN  COMPLETED  "
      ]
     },
     "execution_count": 66,
     "metadata": {},
     "output_type": "execute_result"
    }
   ],
   "source": [
    "seven_file.head()"
   ]
  },
  {
   "cell_type": "markdown",
   "metadata": {
    "collapsed": false
   },
   "source": [
    "seven_file['link'] = ['text' if isnull(even_file['remarks']) else s]"
   ]
  },
  {
   "cell_type": "code",
   "execution_count": 67,
   "metadata": {
    "collapsed": false
   },
   "outputs": [
    {
     "data": {
      "text/html": [
       "<div>\n",
       "<table border=\"1\" class=\"dataframe\">\n",
       "  <thead>\n",
       "    <tr style=\"text-align: right;\">\n",
       "      <th></th>\n",
       "      <th>creation_time</th>\n",
       "      <th>TH_time</th>\n",
       "      <th>distance_source</th>\n",
       "      <th>passenger1_id</th>\n",
       "      <th>passenger1_name</th>\n",
       "      <th>remarks</th>\n",
       "      <th>state</th>\n",
       "    </tr>\n",
       "  </thead>\n",
       "  <tbody>\n",
       "    <tr>\n",
       "      <th>0</th>\n",
       "      <td>2016-12-14 06:24:09</td>\n",
       "      <td>2016-12-14 13:24:09</td>\n",
       "      <td>IPHONE2-POI</td>\n",
       "      <td>7066160</td>\n",
       "      <td>Wilaiwan Dhrammajariyapong</td>\n",
       "      <td>กรุณาแสดงข้อมูลในลิงค์นี้ให้พนักงาน 7-Eleven. ...</td>\n",
       "      <td>COMPLETED</td>\n",
       "    </tr>\n",
       "    <tr>\n",
       "      <th>1</th>\n",
       "      <td>2016-12-14 07:21:47</td>\n",
       "      <td>2016-12-14 14:21:47</td>\n",
       "      <td>ANDROID2-POI</td>\n",
       "      <td>2247921</td>\n",
       "      <td>Kai</td>\n",
       "      <td>NaN</td>\n",
       "      <td>COMPLETED</td>\n",
       "    </tr>\n",
       "    <tr>\n",
       "      <th>2</th>\n",
       "      <td>2016-12-14 07:31:22</td>\n",
       "      <td>2016-12-14 14:31:22</td>\n",
       "      <td>ANDROID2-POI</td>\n",
       "      <td>455541</td>\n",
       "      <td>Tee</td>\n",
       "      <td>กรุณาแสดงข้อมูลในลิงค์นี้ให้พนักงาน 7-Eleven. ...</td>\n",
       "      <td>COMPLETED</td>\n",
       "    </tr>\n",
       "    <tr>\n",
       "      <th>3</th>\n",
       "      <td>2016-12-14 07:40:07</td>\n",
       "      <td>2016-12-14 14:40:07</td>\n",
       "      <td>ANDROID2-POI</td>\n",
       "      <td>6862205</td>\n",
       "      <td>Poyroi Ka</td>\n",
       "      <td>กรุณาแสดงข้อมูลในลิงค์นี้ให้พนักงาน 7-Eleven. ...</td>\n",
       "      <td>COMPLETED</td>\n",
       "    </tr>\n",
       "    <tr>\n",
       "      <th>4</th>\n",
       "      <td>2016-12-14 07:44:38</td>\n",
       "      <td>2016-12-14 14:44:38</td>\n",
       "      <td>ANDROID2-POI</td>\n",
       "      <td>12278436</td>\n",
       "      <td>Care</td>\n",
       "      <td>NaN</td>\n",
       "      <td>COMPLETED</td>\n",
       "    </tr>\n",
       "  </tbody>\n",
       "</table>\n",
       "</div>"
      ],
      "text/plain": [
       "        creation_time             TH_time distance_source  passenger1_id  \\\n",
       "0 2016-12-14 06:24:09 2016-12-14 13:24:09     IPHONE2-POI        7066160   \n",
       "1 2016-12-14 07:21:47 2016-12-14 14:21:47    ANDROID2-POI        2247921   \n",
       "2 2016-12-14 07:31:22 2016-12-14 14:31:22    ANDROID2-POI         455541   \n",
       "3 2016-12-14 07:40:07 2016-12-14 14:40:07    ANDROID2-POI        6862205   \n",
       "4 2016-12-14 07:44:38 2016-12-14 14:44:38    ANDROID2-POI       12278436   \n",
       "\n",
       "              passenger1_name  \\\n",
       "0  Wilaiwan Dhrammajariyapong   \n",
       "1                         Kai   \n",
       "2                         Tee   \n",
       "3                   Poyroi Ka   \n",
       "4                        Care   \n",
       "\n",
       "                                             remarks      state  \n",
       "0  กรุณาแสดงข้อมูลในลิงค์นี้ให้พนักงาน 7-Eleven. ...  COMPLETED  \n",
       "1                                                NaN  COMPLETED  \n",
       "2  กรุณาแสดงข้อมูลในลิงค์นี้ให้พนักงาน 7-Eleven. ...  COMPLETED  \n",
       "3  กรุณาแสดงข้อมูลในลิงค์นี้ให้พนักงาน 7-Eleven. ...  COMPLETED  \n",
       "4                                                NaN  COMPLETED  "
      ]
     },
     "execution_count": 67,
     "metadata": {},
     "output_type": "execute_result"
    }
   ],
   "source": [
    "seven_file.head()"
   ]
  },
  {
   "cell_type": "code",
   "execution_count": 68,
   "metadata": {
    "collapsed": true
   },
   "outputs": [],
   "source": [
    "count = 0 "
   ]
  },
  {
   "cell_type": "code",
   "execution_count": null,
   "metadata": {
    "collapsed": false
   },
   "outputs": [
    {
     "name": "stdout",
     "output_type": "stream",
     "text": [
      "1\n",
      "error\n",
      "2\n",
      "vmfjmYKFl1\n",
      "3\n",
      "OvMmAocrCl\n",
      "4\n",
      "error\n",
      "5\n",
      "error\n",
      "6\n",
      "tHTEYDl7tS\n",
      "7\n",
      "mQsnmNn0a4\n",
      "8\n",
      "XhbBV7Qhdp\n",
      "9\n",
      "error\n",
      "10\n",
      "ZePhpk9lLB\n",
      "11\n",
      "error\n",
      "12\n",
      "error\n",
      "13\n",
      "error\n",
      "14\n",
      "error\n",
      "15\n",
      "error\n",
      "16\n",
      "ODeCDSBrNH\n",
      "17\n",
      "error\n",
      "18\n",
      "error\n",
      "19\n",
      "error\n",
      "20\n",
      "05hsI9ksrc\n",
      "21\n",
      "error\n",
      "22\n",
      "8FGWHYitDD\n",
      "23\n",
      "UQziyUauWM\n",
      "24\n",
      "error\n",
      "25\n",
      "error\n",
      "26\n",
      "FJ4fLw3RE0\n",
      "27\n",
      "error\n",
      "28\n",
      "error\n",
      "29\n",
      "error\n",
      "30\n",
      "error\n",
      "31\n",
      "5YoSbphz4d\n",
      "32\n",
      "qiBk8cioMP\n",
      "33\n",
      "5GRJKzlf8N\n",
      "34\n",
      "W3GTYj8ogp\n",
      "35\n",
      "PtMoAccibJ\n",
      "36\n",
      "kBpwgR9FZo\n",
      "37\n",
      "2sMvgjzutq\n",
      "38\n",
      "Sz93MQWGhy\n",
      "39\n",
      "error\n",
      "40\n",
      "s8z1iPpqsk\n",
      "41\n",
      "error\n",
      "42\n",
      "rVjfDfmwX7\n",
      "43\n",
      "SAa3G9O4zZ\n",
      "44\n",
      "drGFfqS4L9\n",
      "45\n",
      "VyyJSajiCx\n",
      "46\n",
      "error\n",
      "47\n",
      "error\n",
      "48\n",
      "M8fBklUnKa\n",
      "49\n"
     ]
    }
   ],
   "source": [
    "fw = open('collect_data.txt','w')\n",
    "count = 0\n",
    "for n in seven_file.remarks:\n",
    "    count = count+1\n",
    "    print count\n",
    "    try:\n",
    "        s =readfile(count)\n",
    "        print s\n",
    "        #fw.write(str(count)+','+str(s)+'\\n')\n",
    "    except:\n",
    "        print 'error'\n",
    "        fw.write(str(count)+'\\n')\n",
    "    \n",
    "fw.close()"
   ]
  },
  {
   "cell_type": "code",
   "execution_count": null,
   "metadata": {
    "collapsed": true
   },
   "outputs": [],
   "source": []
  }
 ],
 "metadata": {
  "anaconda-cloud": {},
  "kernelspec": {
   "display_name": "Python [default]",
   "language": "python",
   "name": "python2"
  },
  "language_info": {
   "codemirror_mode": {
    "name": "ipython",
    "version": 2
   },
   "file_extension": ".py",
   "mimetype": "text/x-python",
   "name": "python",
   "nbconvert_exporter": "python",
   "pygments_lexer": "ipython2",
   "version": "2.7.12"
  }
 },
 "nbformat": 4,
 "nbformat_minor": 1
}
