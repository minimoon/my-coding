{
 "cells": [
  {
   "cell_type": "code",
   "execution_count": 18,
   "metadata": {
    "collapsed": false
   },
   "outputs": [
    {
     "data": {
      "text/plain": [
       "<pandas.io.excel.ExcelFile at 0x28c8eb8>"
      ]
     },
     "execution_count": 18,
     "metadata": {},
     "output_type": "execute_result"
    }
   ],
   "source": [
    "#1 read csv\n",
    "#2 select remarks col\n",
    "#3 url open\n",
    "#4 collect link or scrape\n",
    "#5 insert after remark\n",
    "import numpy as np\n",
    "import pandas as pd\n",
    "from pandas import Series,DataFrame\n",
    "f = pd.ExcelFile('14 Dec - 27 June 7-Eleven GrabBike  Report2.xlsx')\n",
    "f"
   ]
  },
  {
   "cell_type": "code",
   "execution_count": 19,
   "metadata": {
    "collapsed": false
   },
   "outputs": [
    {
     "data": {
      "text/html": [
       "<div>\n",
       "<table border=\"1\" class=\"dataframe\">\n",
       "  <thead>\n",
       "    <tr style=\"text-align: right;\">\n",
       "      <th></th>\n",
       "      <th>creation_time</th>\n",
       "      <th>TH_time</th>\n",
       "      <th>passenger1_name</th>\n",
       "      <th>remarks</th>\n",
       "      <th>state</th>\n",
       "    </tr>\n",
       "  </thead>\n",
       "  <tbody>\n",
       "    <tr>\n",
       "      <th>0</th>\n",
       "      <td>2016-12-06 08:48:38</td>\n",
       "      <td>2016-12-06 15:48:38</td>\n",
       "      <td>Poyroi Ka</td>\n",
       "      <td>กรุณาแสดงข้อมูลในลิงค์นี้ให้พนักงาน 7-Eleven. ...</td>\n",
       "      <td>COMPLETED</td>\n",
       "    </tr>\n",
       "    <tr>\n",
       "      <th>1</th>\n",
       "      <td>2016-12-14 06:24:09</td>\n",
       "      <td>2016-12-14 13:24:09</td>\n",
       "      <td>Wilaiwan Dhrammajariyapong</td>\n",
       "      <td>กรุณาแสดงข้อมูลในลิงค์นี้ให้พนักงาน 7-Eleven. ...</td>\n",
       "      <td>COMPLETED</td>\n",
       "    </tr>\n",
       "    <tr>\n",
       "      <th>2</th>\n",
       "      <td>2017-06-19 12:21:00</td>\n",
       "      <td>2017-06-19 19:21:00</td>\n",
       "      <td>Min G</td>\n",
       "      <td>ซื้อของที่ 7-11. https://goo.gl/saB91a   08187...</td>\n",
       "      <td>COMPLETED</td>\n",
       "    </tr>\n",
       "    <tr>\n",
       "      <th>3</th>\n",
       "      <td>2017-06-19 13:41:00</td>\n",
       "      <td>2017-06-19 20:41:00</td>\n",
       "      <td>Jack T.</td>\n",
       "      <td>ซื้อของที่ 7-11. https://goo.gl/dUJLGA</td>\n",
       "      <td>COMPLETED</td>\n",
       "    </tr>\n",
       "  </tbody>\n",
       "</table>\n",
       "</div>"
      ],
      "text/plain": [
       "        creation_time            TH_time              passenger1_name  \\\n",
       "0 2016-12-06 08:48:38 2016-12-06 15:48:38                   Poyroi Ka   \n",
       "1 2016-12-14 06:24:09 2016-12-14 13:24:09  Wilaiwan Dhrammajariyapong   \n",
       "2 2017-06-19 12:21:00 2017-06-19 19:21:00                       Min G   \n",
       "3 2017-06-19 13:41:00 2017-06-19 20:41:00                     Jack T.   \n",
       "\n",
       "                                             remarks      state  \n",
       "0  กรุณาแสดงข้อมูลในลิงค์นี้ให้พนักงาน 7-Eleven. ...  COMPLETED  \n",
       "1  กรุณาแสดงข้อมูลในลิงค์นี้ให้พนักงาน 7-Eleven. ...  COMPLETED  \n",
       "2  ซื้อของที่ 7-11. https://goo.gl/saB91a   08187...  COMPLETED  \n",
       "3             ซื้อของที่ 7-11. https://goo.gl/dUJLGA  COMPLETED  "
      ]
     },
     "execution_count": 19,
     "metadata": {},
     "output_type": "execute_result"
    }
   ],
   "source": [
    "seven_file = f.parse('Sheet1')\n",
    "seven_file.head()"
   ]
  },
  {
   "cell_type": "code",
   "execution_count": 20,
   "metadata": {
    "collapsed": false
   },
   "outputs": [
    {
     "data": {
      "text/plain": [
       "4"
      ]
     },
     "execution_count": 20,
     "metadata": {},
     "output_type": "execute_result"
    }
   ],
   "source": [
    "seven_file.remarks.count()"
   ]
  },
  {
   "cell_type": "code",
   "execution_count": 21,
   "metadata": {
    "collapsed": false
   },
   "outputs": [
    {
     "data": {
      "text/plain": [
       "u'\\u0e0b\\u0e37\\u0e49\\u0e2d\\u0e02\\u0e2d\\u0e07\\u0e17\\u0e35\\u0e48 7-11. https://goo.gl/saB91a   0818714495 \\u0e2a\\u0e48\\u0e07\\u0e02\\u0e2d\\u0e07\\u0e43\\u0e19\\u0e2a\\u0e19\\u0e32\\u0e21\\u0e1f\\u0e38\\u0e15\\u0e1a\\u0e2d\\u0e25\\u0e04\\u0e23\\u0e31\\u0e1a'"
      ]
     },
     "execution_count": 21,
     "metadata": {},
     "output_type": "execute_result"
    }
   ],
   "source": [
    "seven_file.remarks[2]"
   ]
  },
  {
   "cell_type": "code",
   "execution_count": 22,
   "metadata": {
    "collapsed": true
   },
   "outputs": [],
   "source": [
    "import urllib2"
   ]
  },
  {
   "cell_type": "code",
   "execution_count": 23,
   "metadata": {
    "collapsed": false
   },
   "outputs": [
    {
     "data": {
      "text/plain": [
       "u'saB91a   0818714495 \\u0e2a\\u0e48\\u0e07\\u0e02\\u0e2d\\u0e07\\u0e43\\u0e19\\u0e2a\\u0e19\\u0e32\\u0e21\\u0e1f\\u0e38\\u0e15\\u0e1a\\u0e2d\\u0e25\\u0e04\\u0e23\\u0e31\\u0e1a'"
      ]
     },
     "execution_count": 23,
     "metadata": {},
     "output_type": "execute_result"
    }
   ],
   "source": [
    "seven_file.remarks[2].split('https://goo.gl/')[1]"
   ]
  },
  {
   "cell_type": "code",
   "execution_count": 34,
   "metadata": {
    "collapsed": false
   },
   "outputs": [
    {
     "data": {
      "text/plain": [
       "'https://goo.gl/saB91a'"
      ]
     },
     "execution_count": 34,
     "metadata": {},
     "output_type": "execute_result"
    }
   ],
   "source": [
    "s = 'https://goo.gl/'+str((seven_file.remarks[2].split('https://goo.gl/')[1].split(' ')[0]))\n",
    "s"
   ]
  },
  {
   "cell_type": "code",
   "execution_count": 25,
   "metadata": {
    "collapsed": false
   },
   "outputs": [],
   "source": [
    "def readfile(n):\n",
    "    f = urllib2.urlopen('https://goo.gl/'+str((seven_file.remarks[n].split('https://goo.gl/')[1])))\n",
    "    page = f.read()\n",
    "    return page.split('<p>Order ID</p>\\n      <h2>')[1].split('<')[0]"
   ]
  },
  {
   "cell_type": "code",
   "execution_count": 26,
   "metadata": {
    "collapsed": false
   },
   "outputs": [
    {
     "name": "stdout",
     "output_type": "stream",
     "text": [
      "w7HvRGBGPF\n"
     ]
    }
   ],
   "source": [
    "s =readfile(3)\n",
    "print s"
   ]
  },
  {
   "cell_type": "markdown",
   "metadata": {},
   "source": [
    "if seven_file['remarks'].isnull:\n",
    "    print 'null'\n",
    "else:\n",
    "    print 'not null'"
   ]
  },
  {
   "cell_type": "code",
   "execution_count": 27,
   "metadata": {
    "collapsed": false
   },
   "outputs": [
    {
     "data": {
      "text/html": [
       "<div>\n",
       "<table border=\"1\" class=\"dataframe\">\n",
       "  <thead>\n",
       "    <tr style=\"text-align: right;\">\n",
       "      <th></th>\n",
       "      <th>creation_time</th>\n",
       "      <th>TH_time</th>\n",
       "      <th>passenger1_name</th>\n",
       "      <th>remarks</th>\n",
       "      <th>state</th>\n",
       "    </tr>\n",
       "  </thead>\n",
       "  <tbody>\n",
       "    <tr>\n",
       "      <th>0</th>\n",
       "      <td>2016-12-06 08:48:38</td>\n",
       "      <td>2016-12-06 15:48:38</td>\n",
       "      <td>Poyroi Ka</td>\n",
       "      <td>กรุณาแสดงข้อมูลในลิงค์นี้ให้พนักงาน 7-Eleven. ...</td>\n",
       "      <td>COMPLETED</td>\n",
       "    </tr>\n",
       "    <tr>\n",
       "      <th>1</th>\n",
       "      <td>2016-12-14 06:24:09</td>\n",
       "      <td>2016-12-14 13:24:09</td>\n",
       "      <td>Wilaiwan Dhrammajariyapong</td>\n",
       "      <td>กรุณาแสดงข้อมูลในลิงค์นี้ให้พนักงาน 7-Eleven. ...</td>\n",
       "      <td>COMPLETED</td>\n",
       "    </tr>\n",
       "    <tr>\n",
       "      <th>2</th>\n",
       "      <td>2017-06-19 12:21:00</td>\n",
       "      <td>2017-06-19 19:21:00</td>\n",
       "      <td>Min G</td>\n",
       "      <td>ซื้อของที่ 7-11. https://goo.gl/saB91a   08187...</td>\n",
       "      <td>COMPLETED</td>\n",
       "    </tr>\n",
       "    <tr>\n",
       "      <th>3</th>\n",
       "      <td>2017-06-19 13:41:00</td>\n",
       "      <td>2017-06-19 20:41:00</td>\n",
       "      <td>Jack T.</td>\n",
       "      <td>ซื้อของที่ 7-11. https://goo.gl/dUJLGA</td>\n",
       "      <td>COMPLETED</td>\n",
       "    </tr>\n",
       "  </tbody>\n",
       "</table>\n",
       "</div>"
      ],
      "text/plain": [
       "        creation_time            TH_time              passenger1_name  \\\n",
       "0 2016-12-06 08:48:38 2016-12-06 15:48:38                   Poyroi Ka   \n",
       "1 2016-12-14 06:24:09 2016-12-14 13:24:09  Wilaiwan Dhrammajariyapong   \n",
       "2 2017-06-19 12:21:00 2017-06-19 19:21:00                       Min G   \n",
       "3 2017-06-19 13:41:00 2017-06-19 20:41:00                     Jack T.   \n",
       "\n",
       "                                             remarks      state  \n",
       "0  กรุณาแสดงข้อมูลในลิงค์นี้ให้พนักงาน 7-Eleven. ...  COMPLETED  \n",
       "1  กรุณาแสดงข้อมูลในลิงค์นี้ให้พนักงาน 7-Eleven. ...  COMPLETED  \n",
       "2  ซื้อของที่ 7-11. https://goo.gl/saB91a   08187...  COMPLETED  \n",
       "3             ซื้อของที่ 7-11. https://goo.gl/dUJLGA  COMPLETED  "
      ]
     },
     "execution_count": 27,
     "metadata": {},
     "output_type": "execute_result"
    }
   ],
   "source": [
    "seven_file.head()"
   ]
  },
  {
   "cell_type": "code",
   "execution_count": 28,
   "metadata": {
    "collapsed": false
   },
   "outputs": [],
   "source": [
    "seven_file['remarks'].fillna(0,inplace=True)"
   ]
  },
  {
   "cell_type": "markdown",
   "metadata": {
    "collapsed": false
   },
   "source": [
    "seven_file['link'] = ['text' if isnull(even_file['remarks']) else s]"
   ]
  },
  {
   "cell_type": "code",
   "execution_count": 29,
   "metadata": {
    "collapsed": false
   },
   "outputs": [
    {
     "data": {
      "text/html": [
       "<div>\n",
       "<table border=\"1\" class=\"dataframe\">\n",
       "  <thead>\n",
       "    <tr style=\"text-align: right;\">\n",
       "      <th></th>\n",
       "      <th>creation_time</th>\n",
       "      <th>TH_time</th>\n",
       "      <th>passenger1_name</th>\n",
       "      <th>remarks</th>\n",
       "      <th>state</th>\n",
       "    </tr>\n",
       "  </thead>\n",
       "  <tbody>\n",
       "    <tr>\n",
       "      <th>0</th>\n",
       "      <td>2016-12-06 08:48:38</td>\n",
       "      <td>2016-12-06 15:48:38</td>\n",
       "      <td>Poyroi Ka</td>\n",
       "      <td>กรุณาแสดงข้อมูลในลิงค์นี้ให้พนักงาน 7-Eleven. ...</td>\n",
       "      <td>COMPLETED</td>\n",
       "    </tr>\n",
       "    <tr>\n",
       "      <th>1</th>\n",
       "      <td>2016-12-14 06:24:09</td>\n",
       "      <td>2016-12-14 13:24:09</td>\n",
       "      <td>Wilaiwan Dhrammajariyapong</td>\n",
       "      <td>กรุณาแสดงข้อมูลในลิงค์นี้ให้พนักงาน 7-Eleven. ...</td>\n",
       "      <td>COMPLETED</td>\n",
       "    </tr>\n",
       "    <tr>\n",
       "      <th>2</th>\n",
       "      <td>2017-06-19 12:21:00</td>\n",
       "      <td>2017-06-19 19:21:00</td>\n",
       "      <td>Min G</td>\n",
       "      <td>ซื้อของที่ 7-11. https://goo.gl/saB91a   08187...</td>\n",
       "      <td>COMPLETED</td>\n",
       "    </tr>\n",
       "    <tr>\n",
       "      <th>3</th>\n",
       "      <td>2017-06-19 13:41:00</td>\n",
       "      <td>2017-06-19 20:41:00</td>\n",
       "      <td>Jack T.</td>\n",
       "      <td>ซื้อของที่ 7-11. https://goo.gl/dUJLGA</td>\n",
       "      <td>COMPLETED</td>\n",
       "    </tr>\n",
       "  </tbody>\n",
       "</table>\n",
       "</div>"
      ],
      "text/plain": [
       "        creation_time            TH_time              passenger1_name  \\\n",
       "0 2016-12-06 08:48:38 2016-12-06 15:48:38                   Poyroi Ka   \n",
       "1 2016-12-14 06:24:09 2016-12-14 13:24:09  Wilaiwan Dhrammajariyapong   \n",
       "2 2017-06-19 12:21:00 2017-06-19 19:21:00                       Min G   \n",
       "3 2017-06-19 13:41:00 2017-06-19 20:41:00                     Jack T.   \n",
       "\n",
       "                                             remarks      state  \n",
       "0  กรุณาแสดงข้อมูลในลิงค์นี้ให้พนักงาน 7-Eleven. ...  COMPLETED  \n",
       "1  กรุณาแสดงข้อมูลในลิงค์นี้ให้พนักงาน 7-Eleven. ...  COMPLETED  \n",
       "2  ซื้อของที่ 7-11. https://goo.gl/saB91a   08187...  COMPLETED  \n",
       "3             ซื้อของที่ 7-11. https://goo.gl/dUJLGA  COMPLETED  "
      ]
     },
     "execution_count": 29,
     "metadata": {},
     "output_type": "execute_result"
    }
   ],
   "source": [
    "seven_file.head()"
   ]
  },
  {
   "cell_type": "code",
   "execution_count": 30,
   "metadata": {
    "collapsed": true
   },
   "outputs": [],
   "source": [
    "count = 0"
   ]
  },
  {
   "cell_type": "code",
   "execution_count": 31,
   "metadata": {
    "collapsed": false
   },
   "outputs": [],
   "source": [
    "fw = open('collect_data.txt','w')\n",
    "count = -1\n",
    "lists = []\n",
    "for n in seven_file.remarks:\n",
    "    count = count+1\n",
    "    #print count\n",
    "    try:\n",
    "        s =readfile(count)\n",
    "        #fw.write(str(count)+','+str(s)+'\\n')\n",
    "    except:\n",
    "        s = 'error'\n",
    "        #fw.write(str(count)+'\\n')\n",
    "    lists.append(s)\n",
    "fw.close()"
   ]
  },
  {
   "cell_type": "code",
   "execution_count": 32,
   "metadata": {
    "collapsed": false
   },
   "outputs": [],
   "source": [
    "seven_file['link'] = lists"
   ]
  },
  {
   "cell_type": "code",
   "execution_count": 33,
   "metadata": {
    "collapsed": false,
    "scrolled": false
   },
   "outputs": [
    {
     "data": {
      "text/html": [
       "<div>\n",
       "<table border=\"1\" class=\"dataframe\">\n",
       "  <thead>\n",
       "    <tr style=\"text-align: right;\">\n",
       "      <th></th>\n",
       "      <th>creation_time</th>\n",
       "      <th>TH_time</th>\n",
       "      <th>passenger1_name</th>\n",
       "      <th>remarks</th>\n",
       "      <th>state</th>\n",
       "      <th>link</th>\n",
       "    </tr>\n",
       "  </thead>\n",
       "  <tbody>\n",
       "    <tr>\n",
       "      <th>0</th>\n",
       "      <td>2016-12-06 08:48:38</td>\n",
       "      <td>2016-12-06 15:48:38</td>\n",
       "      <td>Poyroi Ka</td>\n",
       "      <td>กรุณาแสดงข้อมูลในลิงค์นี้ให้พนักงาน 7-Eleven. ...</td>\n",
       "      <td>COMPLETED</td>\n",
       "      <td>eMHDgDv9Ig</td>\n",
       "    </tr>\n",
       "    <tr>\n",
       "      <th>1</th>\n",
       "      <td>2016-12-14 06:24:09</td>\n",
       "      <td>2016-12-14 13:24:09</td>\n",
       "      <td>Wilaiwan Dhrammajariyapong</td>\n",
       "      <td>กรุณาแสดงข้อมูลในลิงค์นี้ให้พนักงาน 7-Eleven. ...</td>\n",
       "      <td>COMPLETED</td>\n",
       "      <td>Oujdtytzbp</td>\n",
       "    </tr>\n",
       "    <tr>\n",
       "      <th>2</th>\n",
       "      <td>2017-06-19 12:21:00</td>\n",
       "      <td>2017-06-19 19:21:00</td>\n",
       "      <td>Min G</td>\n",
       "      <td>ซื้อของที่ 7-11. https://goo.gl/saB91a   08187...</td>\n",
       "      <td>COMPLETED</td>\n",
       "      <td>error</td>\n",
       "    </tr>\n",
       "    <tr>\n",
       "      <th>3</th>\n",
       "      <td>2017-06-19 13:41:00</td>\n",
       "      <td>2017-06-19 20:41:00</td>\n",
       "      <td>Jack T.</td>\n",
       "      <td>ซื้อของที่ 7-11. https://goo.gl/dUJLGA</td>\n",
       "      <td>COMPLETED</td>\n",
       "      <td>w7HvRGBGPF</td>\n",
       "    </tr>\n",
       "  </tbody>\n",
       "</table>\n",
       "</div>"
      ],
      "text/plain": [
       "        creation_time            TH_time              passenger1_name  \\\n",
       "0 2016-12-06 08:48:38 2016-12-06 15:48:38                   Poyroi Ka   \n",
       "1 2016-12-14 06:24:09 2016-12-14 13:24:09  Wilaiwan Dhrammajariyapong   \n",
       "2 2017-06-19 12:21:00 2017-06-19 19:21:00                       Min G   \n",
       "3 2017-06-19 13:41:00 2017-06-19 20:41:00                     Jack T.   \n",
       "\n",
       "                                             remarks      state        link  \n",
       "0  กรุณาแสดงข้อมูลในลิงค์นี้ให้พนักงาน 7-Eleven. ...  COMPLETED  eMHDgDv9Ig  \n",
       "1  กรุณาแสดงข้อมูลในลิงค์นี้ให้พนักงาน 7-Eleven. ...  COMPLETED  Oujdtytzbp  \n",
       "2  ซื้อของที่ 7-11. https://goo.gl/saB91a   08187...  COMPLETED       error  \n",
       "3             ซื้อของที่ 7-11. https://goo.gl/dUJLGA  COMPLETED  w7HvRGBGPF  "
      ]
     },
     "execution_count": 33,
     "metadata": {},
     "output_type": "execute_result"
    }
   ],
   "source": [
    "seven_file"
   ]
  },
  {
   "cell_type": "code",
   "execution_count": 17,
   "metadata": {
    "collapsed": false
   },
   "outputs": [],
   "source": [
    "seven_file.to_csv('seven_file.csv',sep=',',encoding='utf-8')"
   ]
  },
  {
   "cell_type": "markdown",
   "metadata": {},
   "source": [
    "\tcreation_time\tTH_time\tdistance_source\tpassenger1_id\tpassenger1_name\tremarks\tstate\tlink\n",
    "0\t12/14/2016 6:24\t12/14/2016 13:24\tIPHONE2-POI\t7066160\tWilaiwan Dhrammajariyapong\tเธเธฃเธธเธ“เธฒเนเธชเธ”เธเธเนเธญเธกเธนเธฅเนเธเธฅเธดเธเธเนเธเธตเนเนเธซเนเธเธเธฑเธเธเธฒเธ 7-Eleven. https://goo.gl/DDfl6O\tCOMPLETED\tOujdtytzbp\n"
   ]
  },
  {
   "cell_type": "code",
   "execution_count": null,
   "metadata": {
    "collapsed": true
   },
   "outputs": [],
   "source": []
  }
 ],
 "metadata": {
  "anaconda-cloud": {},
  "kernelspec": {
   "display_name": "Python [default]",
   "language": "python",
   "name": "python2"
  },
  "language_info": {
   "codemirror_mode": {
    "name": "ipython",
    "version": 2
   },
   "file_extension": ".py",
   "mimetype": "text/x-python",
   "name": "python",
   "nbconvert_exporter": "python",
   "pygments_lexer": "ipython2",
   "version": "2.7.12"
  }
 },
 "nbformat": 4,
 "nbformat_minor": 1
}
