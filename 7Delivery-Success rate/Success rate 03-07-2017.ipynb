{
 "cells": [
  {
   "cell_type": "code",
   "execution_count": 33,
   "metadata": {
    "collapsed": false
   },
   "outputs": [
    {
     "data": {
      "text/plain": [
       "<pandas.io.excel.ExcelFile at 0x865a080>"
      ]
     },
     "execution_count": 33,
     "metadata": {},
     "output_type": "execute_result"
    }
   ],
   "source": [
    "#1 read csv\n",
    "#2 select remarks col\n",
    "#3 url open\n",
    "#4 collect link or scrape\n",
    "#5 insert after remark\n",
    "import numpy as np\n",
    "import pandas as pd\n",
    "from pandas import Series,DataFrame\n",
    "f = pd.ExcelFile('14 Dec - 27 June 7-Eleven GrabBike  Report.xlsx')\n",
    "f"
   ]
  },
  {
   "cell_type": "code",
   "execution_count": 34,
   "metadata": {
    "collapsed": false
   },
   "outputs": [
    {
     "data": {
      "text/html": [
       "<div>\n",
       "<table border=\"1\" class=\"dataframe\">\n",
       "  <thead>\n",
       "    <tr style=\"text-align: right;\">\n",
       "      <th></th>\n",
       "      <th>creation_time</th>\n",
       "      <th>TH_time</th>\n",
       "      <th>passenger1_name</th>\n",
       "      <th>remarks</th>\n",
       "      <th>state</th>\n",
       "    </tr>\n",
       "  </thead>\n",
       "  <tbody>\n",
       "    <tr>\n",
       "      <th>0</th>\n",
       "      <td>2016-12-06 08:48:38</td>\n",
       "      <td>2016-12-06 15:48:38</td>\n",
       "      <td>Poyroi Ka</td>\n",
       "      <td>กรุณาแสดงข้อมูลในลิงค์นี้ให้พนักงาน 7-Eleven. ...</td>\n",
       "      <td>COMPLETED</td>\n",
       "    </tr>\n",
       "    <tr>\n",
       "      <th>1</th>\n",
       "      <td>2016-12-14 06:24:09</td>\n",
       "      <td>2016-12-14 13:24:09</td>\n",
       "      <td>Wilaiwan Dhrammajariyapong</td>\n",
       "      <td>กรุณาแสดงข้อมูลในลิงค์นี้ให้พนักงาน 7-Eleven. ...</td>\n",
       "      <td>COMPLETED</td>\n",
       "    </tr>\n",
       "    <tr>\n",
       "      <th>2</th>\n",
       "      <td>2016-12-14 07:31:22</td>\n",
       "      <td>2016-12-14 14:31:22</td>\n",
       "      <td>Tee</td>\n",
       "      <td>กรุณาแสดงข้อมูลในลิงค์นี้ให้พนักงาน 7-Eleven. ...</td>\n",
       "      <td>COMPLETED</td>\n",
       "    </tr>\n",
       "    <tr>\n",
       "      <th>3</th>\n",
       "      <td>2016-12-14 07:40:07</td>\n",
       "      <td>2016-12-14 14:40:07</td>\n",
       "      <td>Poyroi Ka</td>\n",
       "      <td>กรุณาแสดงข้อมูลในลิงค์นี้ให้พนักงาน 7-Eleven. ...</td>\n",
       "      <td>COMPLETED</td>\n",
       "    </tr>\n",
       "    <tr>\n",
       "      <th>4</th>\n",
       "      <td>2016-12-14 08:34:00</td>\n",
       "      <td>2016-12-14 15:34:00</td>\n",
       "      <td>Sugar Closet</td>\n",
       "      <td>กรุณาแสดงข้อมูลในลิงค์นี้ให้พนักงาน 7-Eleven. ...</td>\n",
       "      <td>COMPLETED</td>\n",
       "    </tr>\n",
       "  </tbody>\n",
       "</table>\n",
       "</div>"
      ],
      "text/plain": [
       "        creation_time            TH_time              passenger1_name  \\\n",
       "0 2016-12-06 08:48:38 2016-12-06 15:48:38                   Poyroi Ka   \n",
       "1 2016-12-14 06:24:09 2016-12-14 13:24:09  Wilaiwan Dhrammajariyapong   \n",
       "2 2016-12-14 07:31:22 2016-12-14 14:31:22                         Tee   \n",
       "3 2016-12-14 07:40:07 2016-12-14 14:40:07                   Poyroi Ka   \n",
       "4 2016-12-14 08:34:00 2016-12-14 15:34:00                Sugar Closet   \n",
       "\n",
       "                                             remarks      state  \n",
       "0  กรุณาแสดงข้อมูลในลิงค์นี้ให้พนักงาน 7-Eleven. ...  COMPLETED  \n",
       "1  กรุณาแสดงข้อมูลในลิงค์นี้ให้พนักงาน 7-Eleven. ...  COMPLETED  \n",
       "2  กรุณาแสดงข้อมูลในลิงค์นี้ให้พนักงาน 7-Eleven. ...  COMPLETED  \n",
       "3  กรุณาแสดงข้อมูลในลิงค์นี้ให้พนักงาน 7-Eleven. ...  COMPLETED  \n",
       "4  กรุณาแสดงข้อมูลในลิงค์นี้ให้พนักงาน 7-Eleven. ...  COMPLETED  "
      ]
     },
     "execution_count": 34,
     "metadata": {},
     "output_type": "execute_result"
    }
   ],
   "source": [
    "seven_file = f.parse('Sheet1')\n",
    "seven_file.head()"
   ]
  },
  {
   "cell_type": "code",
   "execution_count": 35,
   "metadata": {
    "collapsed": false
   },
   "outputs": [
    {
     "data": {
      "text/plain": [
       "1192"
      ]
     },
     "execution_count": 35,
     "metadata": {},
     "output_type": "execute_result"
    }
   ],
   "source": [
    "seven_file.remarks.count()"
   ]
  },
  {
   "cell_type": "code",
   "execution_count": 36,
   "metadata": {
    "collapsed": false
   },
   "outputs": [
    {
     "data": {
      "text/plain": [
       "u'\\u0e01\\u0e23\\u0e38\\u0e13\\u0e32\\u0e41\\u0e2a\\u0e14\\u0e07\\u0e02\\u0e49\\u0e2d\\u0e21\\u0e39\\u0e25\\u0e43\\u0e19\\u0e25\\u0e34\\u0e07\\u0e04\\u0e4c\\u0e19\\u0e35\\u0e49\\u0e43\\u0e2b\\u0e49\\u0e1e\\u0e19\\u0e31\\u0e01\\u0e07\\u0e32\\u0e19 7-Eleven. https://goo.gl/q24VZT'"
      ]
     },
     "execution_count": 36,
     "metadata": {},
     "output_type": "execute_result"
    }
   ],
   "source": [
    "seven_file.remarks[0]"
   ]
  },
  {
   "cell_type": "code",
   "execution_count": 37,
   "metadata": {
    "collapsed": true
   },
   "outputs": [],
   "source": [
    "import urllib2"
   ]
  },
  {
   "cell_type": "code",
   "execution_count": 38,
   "metadata": {
    "collapsed": false
   },
   "outputs": [
    {
     "data": {
      "text/plain": [
       "u'q24VZT'"
      ]
     },
     "execution_count": 38,
     "metadata": {},
     "output_type": "execute_result"
    }
   ],
   "source": [
    "seven_file.remarks[0].split('https://goo.gl/')[1]"
   ]
  },
  {
   "cell_type": "code",
   "execution_count": 39,
   "metadata": {
    "collapsed": false
   },
   "outputs": [
    {
     "data": {
      "text/plain": [
       "'https://goo.gl/q24VZT'"
      ]
     },
     "execution_count": 39,
     "metadata": {},
     "output_type": "execute_result"
    }
   ],
   "source": [
    "s = 'https://goo.gl/'+str((seven_file.remarks[0].split('https://goo.gl/')[1]))\n",
    "s"
   ]
  },
  {
   "cell_type": "code",
   "execution_count": 40,
   "metadata": {
    "collapsed": false
   },
   "outputs": [],
   "source": [
    "def readfile(n):\n",
    "    f = urllib2.urlopen('https://goo.gl/'+str((seven_file.remarks[n].split('https://goo.gl/')[1].split(' ')[0])))\n",
    "    page = f.read()\n",
    "    return page.split('<p>Order ID</p>\\n      <h2>')[1].split('<')[0]"
   ]
  },
  {
   "cell_type": "code",
   "execution_count": 41,
   "metadata": {
    "collapsed": false
   },
   "outputs": [
    {
     "name": "stdout",
     "output_type": "stream",
     "text": [
      "eMHDgDv9Ig\n"
     ]
    }
   ],
   "source": [
    "s =readfile(0)\n",
    "print s"
   ]
  },
  {
   "cell_type": "markdown",
   "metadata": {},
   "source": [
    "if seven_file['remarks'].isnull:\n",
    "    print 'null'\n",
    "else:\n",
    "    print 'not null'"
   ]
  },
  {
   "cell_type": "code",
   "execution_count": 42,
   "metadata": {
    "collapsed": false
   },
   "outputs": [
    {
     "data": {
      "text/html": [
       "<div>\n",
       "<table border=\"1\" class=\"dataframe\">\n",
       "  <thead>\n",
       "    <tr style=\"text-align: right;\">\n",
       "      <th></th>\n",
       "      <th>creation_time</th>\n",
       "      <th>TH_time</th>\n",
       "      <th>passenger1_name</th>\n",
       "      <th>remarks</th>\n",
       "      <th>state</th>\n",
       "    </tr>\n",
       "  </thead>\n",
       "  <tbody>\n",
       "    <tr>\n",
       "      <th>0</th>\n",
       "      <td>2016-12-06 08:48:38</td>\n",
       "      <td>2016-12-06 15:48:38</td>\n",
       "      <td>Poyroi Ka</td>\n",
       "      <td>กรุณาแสดงข้อมูลในลิงค์นี้ให้พนักงาน 7-Eleven. ...</td>\n",
       "      <td>COMPLETED</td>\n",
       "    </tr>\n",
       "    <tr>\n",
       "      <th>1</th>\n",
       "      <td>2016-12-14 06:24:09</td>\n",
       "      <td>2016-12-14 13:24:09</td>\n",
       "      <td>Wilaiwan Dhrammajariyapong</td>\n",
       "      <td>กรุณาแสดงข้อมูลในลิงค์นี้ให้พนักงาน 7-Eleven. ...</td>\n",
       "      <td>COMPLETED</td>\n",
       "    </tr>\n",
       "    <tr>\n",
       "      <th>2</th>\n",
       "      <td>2016-12-14 07:31:22</td>\n",
       "      <td>2016-12-14 14:31:22</td>\n",
       "      <td>Tee</td>\n",
       "      <td>กรุณาแสดงข้อมูลในลิงค์นี้ให้พนักงาน 7-Eleven. ...</td>\n",
       "      <td>COMPLETED</td>\n",
       "    </tr>\n",
       "    <tr>\n",
       "      <th>3</th>\n",
       "      <td>2016-12-14 07:40:07</td>\n",
       "      <td>2016-12-14 14:40:07</td>\n",
       "      <td>Poyroi Ka</td>\n",
       "      <td>กรุณาแสดงข้อมูลในลิงค์นี้ให้พนักงาน 7-Eleven. ...</td>\n",
       "      <td>COMPLETED</td>\n",
       "    </tr>\n",
       "    <tr>\n",
       "      <th>4</th>\n",
       "      <td>2016-12-14 08:34:00</td>\n",
       "      <td>2016-12-14 15:34:00</td>\n",
       "      <td>Sugar Closet</td>\n",
       "      <td>กรุณาแสดงข้อมูลในลิงค์นี้ให้พนักงาน 7-Eleven. ...</td>\n",
       "      <td>COMPLETED</td>\n",
       "    </tr>\n",
       "  </tbody>\n",
       "</table>\n",
       "</div>"
      ],
      "text/plain": [
       "        creation_time            TH_time              passenger1_name  \\\n",
       "0 2016-12-06 08:48:38 2016-12-06 15:48:38                   Poyroi Ka   \n",
       "1 2016-12-14 06:24:09 2016-12-14 13:24:09  Wilaiwan Dhrammajariyapong   \n",
       "2 2016-12-14 07:31:22 2016-12-14 14:31:22                         Tee   \n",
       "3 2016-12-14 07:40:07 2016-12-14 14:40:07                   Poyroi Ka   \n",
       "4 2016-12-14 08:34:00 2016-12-14 15:34:00                Sugar Closet   \n",
       "\n",
       "                                             remarks      state  \n",
       "0  กรุณาแสดงข้อมูลในลิงค์นี้ให้พนักงาน 7-Eleven. ...  COMPLETED  \n",
       "1  กรุณาแสดงข้อมูลในลิงค์นี้ให้พนักงาน 7-Eleven. ...  COMPLETED  \n",
       "2  กรุณาแสดงข้อมูลในลิงค์นี้ให้พนักงาน 7-Eleven. ...  COMPLETED  \n",
       "3  กรุณาแสดงข้อมูลในลิงค์นี้ให้พนักงาน 7-Eleven. ...  COMPLETED  \n",
       "4  กรุณาแสดงข้อมูลในลิงค์นี้ให้พนักงาน 7-Eleven. ...  COMPLETED  "
      ]
     },
     "execution_count": 42,
     "metadata": {},
     "output_type": "execute_result"
    }
   ],
   "source": [
    "seven_file.head()"
   ]
  },
  {
   "cell_type": "code",
   "execution_count": 43,
   "metadata": {
    "collapsed": false
   },
   "outputs": [],
   "source": [
    "seven_file['remarks'].fillna(0,inplace=True)"
   ]
  },
  {
   "cell_type": "markdown",
   "metadata": {
    "collapsed": false
   },
   "source": [
    "seven_file['link'] = ['text' if isnull(even_file['remarks']) else s]"
   ]
  },
  {
   "cell_type": "code",
   "execution_count": 44,
   "metadata": {
    "collapsed": false
   },
   "outputs": [
    {
     "data": {
      "text/html": [
       "<div>\n",
       "<table border=\"1\" class=\"dataframe\">\n",
       "  <thead>\n",
       "    <tr style=\"text-align: right;\">\n",
       "      <th></th>\n",
       "      <th>creation_time</th>\n",
       "      <th>TH_time</th>\n",
       "      <th>passenger1_name</th>\n",
       "      <th>remarks</th>\n",
       "      <th>state</th>\n",
       "    </tr>\n",
       "  </thead>\n",
       "  <tbody>\n",
       "    <tr>\n",
       "      <th>0</th>\n",
       "      <td>2016-12-06 08:48:38</td>\n",
       "      <td>2016-12-06 15:48:38</td>\n",
       "      <td>Poyroi Ka</td>\n",
       "      <td>กรุณาแสดงข้อมูลในลิงค์นี้ให้พนักงาน 7-Eleven. ...</td>\n",
       "      <td>COMPLETED</td>\n",
       "    </tr>\n",
       "    <tr>\n",
       "      <th>1</th>\n",
       "      <td>2016-12-14 06:24:09</td>\n",
       "      <td>2016-12-14 13:24:09</td>\n",
       "      <td>Wilaiwan Dhrammajariyapong</td>\n",
       "      <td>กรุณาแสดงข้อมูลในลิงค์นี้ให้พนักงาน 7-Eleven. ...</td>\n",
       "      <td>COMPLETED</td>\n",
       "    </tr>\n",
       "    <tr>\n",
       "      <th>2</th>\n",
       "      <td>2016-12-14 07:31:22</td>\n",
       "      <td>2016-12-14 14:31:22</td>\n",
       "      <td>Tee</td>\n",
       "      <td>กรุณาแสดงข้อมูลในลิงค์นี้ให้พนักงาน 7-Eleven. ...</td>\n",
       "      <td>COMPLETED</td>\n",
       "    </tr>\n",
       "    <tr>\n",
       "      <th>3</th>\n",
       "      <td>2016-12-14 07:40:07</td>\n",
       "      <td>2016-12-14 14:40:07</td>\n",
       "      <td>Poyroi Ka</td>\n",
       "      <td>กรุณาแสดงข้อมูลในลิงค์นี้ให้พนักงาน 7-Eleven. ...</td>\n",
       "      <td>COMPLETED</td>\n",
       "    </tr>\n",
       "    <tr>\n",
       "      <th>4</th>\n",
       "      <td>2016-12-14 08:34:00</td>\n",
       "      <td>2016-12-14 15:34:00</td>\n",
       "      <td>Sugar Closet</td>\n",
       "      <td>กรุณาแสดงข้อมูลในลิงค์นี้ให้พนักงาน 7-Eleven. ...</td>\n",
       "      <td>COMPLETED</td>\n",
       "    </tr>\n",
       "  </tbody>\n",
       "</table>\n",
       "</div>"
      ],
      "text/plain": [
       "        creation_time            TH_time              passenger1_name  \\\n",
       "0 2016-12-06 08:48:38 2016-12-06 15:48:38                   Poyroi Ka   \n",
       "1 2016-12-14 06:24:09 2016-12-14 13:24:09  Wilaiwan Dhrammajariyapong   \n",
       "2 2016-12-14 07:31:22 2016-12-14 14:31:22                         Tee   \n",
       "3 2016-12-14 07:40:07 2016-12-14 14:40:07                   Poyroi Ka   \n",
       "4 2016-12-14 08:34:00 2016-12-14 15:34:00                Sugar Closet   \n",
       "\n",
       "                                             remarks      state  \n",
       "0  กรุณาแสดงข้อมูลในลิงค์นี้ให้พนักงาน 7-Eleven. ...  COMPLETED  \n",
       "1  กรุณาแสดงข้อมูลในลิงค์นี้ให้พนักงาน 7-Eleven. ...  COMPLETED  \n",
       "2  กรุณาแสดงข้อมูลในลิงค์นี้ให้พนักงาน 7-Eleven. ...  COMPLETED  \n",
       "3  กรุณาแสดงข้อมูลในลิงค์นี้ให้พนักงาน 7-Eleven. ...  COMPLETED  \n",
       "4  กรุณาแสดงข้อมูลในลิงค์นี้ให้พนักงาน 7-Eleven. ...  COMPLETED  "
      ]
     },
     "execution_count": 44,
     "metadata": {},
     "output_type": "execute_result"
    }
   ],
   "source": [
    "seven_file.head()"
   ]
  },
  {
   "cell_type": "code",
   "execution_count": 45,
   "metadata": {
    "collapsed": true
   },
   "outputs": [],
   "source": [
    "count = 0"
   ]
  },
  {
   "cell_type": "code",
   "execution_count": null,
   "metadata": {
    "collapsed": false
   },
   "outputs": [],
   "source": [
    "fw = open('collect_data1.txt','w')\n",
    "count = -1\n",
    "lists = []\n",
    "\n",
    "def time_stamp():\n",
    "    tstamp = datetime.now()\n",
    "    return tstamp\n",
    "\n",
    "print time_stamp()\n",
    "\n",
    "for n in seven_file.remarks:\n",
    "    count = count+1\n",
    "    #print count\n",
    "    try:\n",
    "        s =readfile(count)\n",
    "        #fw.write(str(count)+','+str(s)+'\\n')\n",
    "    except:\n",
    "        s = 'error'\n",
    "        #fw.write(str(count)+'\\n')\n",
    "    print count,s\n",
    "    lists.append(s)\n",
    "fw.close()\n",
    "\n",
    "print time_stamp()"
   ]
  },
  {
   "cell_type": "code",
   "execution_count": null,
   "metadata": {
    "collapsed": false
   },
   "outputs": [],
   "source": [
    "seven_file['link'] = lists"
   ]
  },
  {
   "cell_type": "code",
   "execution_count": null,
   "metadata": {
    "collapsed": false,
    "scrolled": false
   },
   "outputs": [],
   "source": [
    "seven_file"
   ]
  },
  {
   "cell_type": "code",
   "execution_count": null,
   "metadata": {
    "collapsed": false
   },
   "outputs": [],
   "source": [
    "seven_file.to_csv('seven_file.csv',sep=',',encoding='utf-8')"
   ]
  },
  {
   "cell_type": "markdown",
   "metadata": {},
   "source": [
    "\tcreation_time\tTH_time\tdistance_source\tpassenger1_id\tpassenger1_name\tremarks\tstate\tlink\n",
    "0\t12/14/2016 6:24\t12/14/2016 13:24\tIPHONE2-POI\t7066160\tWilaiwan Dhrammajariyapong\tเธเธฃเธธเธ“เธฒเนเธชเธ”เธเธเนเธญเธกเธนเธฅเนเธเธฅเธดเธเธเนเธเธตเนเนเธซเนเธเธเธฑเธเธเธฒเธ 7-Eleven. https://goo.gl/DDfl6O\tCOMPLETED\tOujdtytzbp\n"
   ]
  },
  {
   "cell_type": "code",
   "execution_count": null,
   "metadata": {
    "collapsed": true
   },
   "outputs": [],
   "source": []
  }
 ],
 "metadata": {
  "anaconda-cloud": {},
  "kernelspec": {
   "display_name": "Python [default]",
   "language": "python",
   "name": "python2"
  },
  "language_info": {
   "codemirror_mode": {
    "name": "ipython",
    "version": 2
   },
   "file_extension": ".py",
   "mimetype": "text/x-python",
   "name": "python",
   "nbconvert_exporter": "python",
   "pygments_lexer": "ipython2",
   "version": "2.7.12"
  }
 },
 "nbformat": 4,
 "nbformat_minor": 1
}
