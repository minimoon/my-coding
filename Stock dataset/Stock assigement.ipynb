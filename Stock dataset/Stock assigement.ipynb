{
 "cells": [
  {
   "cell_type": "code",
   "execution_count": 1,
   "metadata": {
    "collapsed": true
   },
   "outputs": [],
   "source": [
    "import numpy as np\n",
    "import pandas as pd\n",
    "from pandas import Series, DataFrame\n",
    "\n",
    "import numpy as np\n",
    "import matplotlib.pyplot as plt\n",
    "import seaborn as sns\n",
    "%matplotlib inline"
   ]
  },
  {
   "cell_type": "code",
   "execution_count": 2,
   "metadata": {
    "collapsed": true
   },
   "outputs": [],
   "source": [
    "df = DataFrame(pd.read_csv('Siamchart(Fin)_2012-2016.csv',sep=','))"
   ]
  },
  {
   "cell_type": "code",
   "execution_count": 3,
   "metadata": {
    "collapsed": false
   },
   "outputs": [
    {
     "data": {
      "text/html": [
       "<div>\n",
       "<table border=\"1\" class=\"dataframe\">\n",
       "  <thead>\n",
       "    <tr style=\"text-align: right;\">\n",
       "      <th></th>\n",
       "      <th>Name</th>\n",
       "      <th>EPS12</th>\n",
       "      <th>EPS13</th>\n",
       "      <th>EPS14</th>\n",
       "      <th>EPS15</th>\n",
       "      <th>EPS16</th>\n",
       "      <th>Rev12</th>\n",
       "      <th>Rev13</th>\n",
       "      <th>Rev14</th>\n",
       "      <th>Rev15</th>\n",
       "      <th>Rev16</th>\n",
       "      <th>NP12</th>\n",
       "      <th>NP13</th>\n",
       "      <th>NP14</th>\n",
       "      <th>NP15</th>\n",
       "      <th>NP16</th>\n",
       "      <th>PE</th>\n",
       "    </tr>\n",
       "  </thead>\n",
       "  <tbody>\n",
       "    <tr>\n",
       "      <th>0</th>\n",
       "      <td>2S</td>\n",
       "      <td>0.21</td>\n",
       "      <td>0.23</td>\n",
       "      <td>0.15</td>\n",
       "      <td>0.11</td>\n",
       "      <td>1.14</td>\n",
       "      <td>4,065.19</td>\n",
       "      <td>4,100.96</td>\n",
       "      <td>4,246.66</td>\n",
       "      <td>3,714.00</td>\n",
       "      <td>3,946.83</td>\n",
       "      <td>52.64</td>\n",
       "      <td>68.03</td>\n",
       "      <td>41.9</td>\n",
       "      <td>33.72</td>\n",
       "      <td>343.07</td>\n",
       "      <td>6.44</td>\n",
       "    </tr>\n",
       "    <tr>\n",
       "      <th>1</th>\n",
       "      <td>A</td>\n",
       "      <td>0.12</td>\n",
       "      <td>0.02</td>\n",
       "      <td>0.04</td>\n",
       "      <td>0.22</td>\n",
       "      <td>0.27</td>\n",
       "      <td>1,835.16</td>\n",
       "      <td>1,807.77</td>\n",
       "      <td>2,559.35</td>\n",
       "      <td>5,453.70</td>\n",
       "      <td>4,724.97</td>\n",
       "      <td>94.35</td>\n",
       "      <td>13.78</td>\n",
       "      <td>41.27</td>\n",
       "      <td>216.69</td>\n",
       "      <td>263.34</td>\n",
       "      <td>27.94</td>\n",
       "    </tr>\n",
       "  </tbody>\n",
       "</table>\n",
       "</div>"
      ],
      "text/plain": [
       "  Name  EPS12  EPS13  EPS14  EPS15  EPS16     Rev12     Rev13     Rev14  \\\n",
       "0   2S   0.21   0.23   0.15   0.11   1.14  4,065.19  4,100.96  4,246.66   \n",
       "1    A   0.12   0.02   0.04   0.22   0.27  1,835.16  1,807.77  2,559.35   \n",
       "\n",
       "      Rev15     Rev16   NP12   NP13   NP14    NP15    NP16     PE  \n",
       "0  3,714.00  3,946.83  52.64  68.03   41.9   33.72  343.07   6.44  \n",
       "1  5,453.70  4,724.97  94.35  13.78  41.27  216.69  263.34  27.94  "
      ]
     },
     "execution_count": 3,
     "metadata": {},
     "output_type": "execute_result"
    }
   ],
   "source": [
    "df.head(2)"
   ]
  },
  {
   "cell_type": "code",
   "execution_count": 4,
   "metadata": {
    "collapsed": true
   },
   "outputs": [],
   "source": [
    "df2 = df.fillna(0)"
   ]
  },
  {
   "cell_type": "code",
   "execution_count": 5,
   "metadata": {
    "collapsed": false
   },
   "outputs": [
    {
     "data": {
      "text/html": [
       "<div>\n",
       "<table border=\"1\" class=\"dataframe\">\n",
       "  <thead>\n",
       "    <tr style=\"text-align: right;\">\n",
       "      <th></th>\n",
       "      <th>EPS12</th>\n",
       "      <th>EPS13</th>\n",
       "      <th>EPS14</th>\n",
       "      <th>EPS15</th>\n",
       "      <th>EPS16</th>\n",
       "      <th>PE</th>\n",
       "    </tr>\n",
       "  </thead>\n",
       "  <tbody>\n",
       "    <tr>\n",
       "      <th>count</th>\n",
       "      <td>657.000000</td>\n",
       "      <td>657.000000</td>\n",
       "      <td>657.000000</td>\n",
       "      <td>657.000000</td>\n",
       "      <td>657.000000</td>\n",
       "      <td>657.000000</td>\n",
       "    </tr>\n",
       "    <tr>\n",
       "      <th>mean</th>\n",
       "      <td>3.200304</td>\n",
       "      <td>3.521218</td>\n",
       "      <td>1.704247</td>\n",
       "      <td>2.525693</td>\n",
       "      <td>1.749285</td>\n",
       "      <td>30.121233</td>\n",
       "    </tr>\n",
       "    <tr>\n",
       "      <th>std</th>\n",
       "      <td>18.122743</td>\n",
       "      <td>25.915776</td>\n",
       "      <td>5.558373</td>\n",
       "      <td>17.843906</td>\n",
       "      <td>5.916688</td>\n",
       "      <td>113.732349</td>\n",
       "    </tr>\n",
       "    <tr>\n",
       "      <th>min</th>\n",
       "      <td>0.000000</td>\n",
       "      <td>0.000000</td>\n",
       "      <td>0.000000</td>\n",
       "      <td>0.000000</td>\n",
       "      <td>0.000000</td>\n",
       "      <td>0.000000</td>\n",
       "    </tr>\n",
       "    <tr>\n",
       "      <th>25%</th>\n",
       "      <td>0.000000</td>\n",
       "      <td>0.000000</td>\n",
       "      <td>0.000000</td>\n",
       "      <td>0.000000</td>\n",
       "      <td>0.010000</td>\n",
       "      <td>6.220000</td>\n",
       "    </tr>\n",
       "    <tr>\n",
       "      <th>50%</th>\n",
       "      <td>0.310000</td>\n",
       "      <td>0.270000</td>\n",
       "      <td>0.240000</td>\n",
       "      <td>0.240000</td>\n",
       "      <td>0.240000</td>\n",
       "      <td>14.530000</td>\n",
       "    </tr>\n",
       "    <tr>\n",
       "      <th>75%</th>\n",
       "      <td>1.290000</td>\n",
       "      <td>1.190000</td>\n",
       "      <td>0.920000</td>\n",
       "      <td>0.920000</td>\n",
       "      <td>0.960000</td>\n",
       "      <td>28.500000</td>\n",
       "    </tr>\n",
       "    <tr>\n",
       "      <th>max</th>\n",
       "      <td>352.770000</td>\n",
       "      <td>605.060000</td>\n",
       "      <td>84.180000</td>\n",
       "      <td>416.000000</td>\n",
       "      <td>94.830000</td>\n",
       "      <td>2452.340000</td>\n",
       "    </tr>\n",
       "  </tbody>\n",
       "</table>\n",
       "</div>"
      ],
      "text/plain": [
       "            EPS12       EPS13       EPS14       EPS15       EPS16           PE\n",
       "count  657.000000  657.000000  657.000000  657.000000  657.000000   657.000000\n",
       "mean     3.200304    3.521218    1.704247    2.525693    1.749285    30.121233\n",
       "std     18.122743   25.915776    5.558373   17.843906    5.916688   113.732349\n",
       "min      0.000000    0.000000    0.000000    0.000000    0.000000     0.000000\n",
       "25%      0.000000    0.000000    0.000000    0.000000    0.010000     6.220000\n",
       "50%      0.310000    0.270000    0.240000    0.240000    0.240000    14.530000\n",
       "75%      1.290000    1.190000    0.920000    0.920000    0.960000    28.500000\n",
       "max    352.770000  605.060000   84.180000  416.000000   94.830000  2452.340000"
      ]
     },
     "execution_count": 5,
     "metadata": {},
     "output_type": "execute_result"
    }
   ],
   "source": [
    "df2.describe()"
   ]
  },
  {
   "cell_type": "code",
   "execution_count": 6,
   "metadata": {
    "collapsed": true
   },
   "outputs": [],
   "source": [
    "ind = DataFrame(pd.read_csv('ind.csv',sep=','))"
   ]
  },
  {
   "cell_type": "code",
   "execution_count": 7,
   "metadata": {
    "collapsed": false
   },
   "outputs": [
    {
     "data": {
      "text/plain": [
       "Name    731\n",
       "Ind     731\n",
       "dtype: int64"
      ]
     },
     "execution_count": 7,
     "metadata": {},
     "output_type": "execute_result"
    }
   ],
   "source": [
    "ind.count()"
   ]
  },
  {
   "cell_type": "code",
   "execution_count": 8,
   "metadata": {
    "collapsed": false
   },
   "outputs": [],
   "source": [
    "#df2['Name'] = ind['Name'].map(ind)\n",
    "#??"
   ]
  },
  {
   "cell_type": "code",
   "execution_count": 9,
   "metadata": {
    "collapsed": false
   },
   "outputs": [],
   "source": [
    "#Now merge, we'll use the key for the left Dframe, and the index for the right\n",
    "#df3 = pd.merge(df,ind,left_on='Name',right_index=True,how='outer')\n",
    "#df3.head(2)\n",
    "#??"
   ]
  },
  {
   "cell_type": "code",
   "execution_count": 10,
   "metadata": {
    "collapsed": false
   },
   "outputs": [
    {
     "data": {
      "text/plain": [
       "\"if 'A' in ind[ind['Name']]:\\n    print True\\nelse:\\n    print False\\n    \""
      ]
     },
     "execution_count": 10,
     "metadata": {},
     "output_type": "execute_result"
    }
   ],
   "source": [
    "'''if 'A' in ind[ind['Name']]:\n",
    "    print True\n",
    "else:\n",
    "    print False\n",
    "    '''"
   ]
  },
  {
   "cell_type": "code",
   "execution_count": 11,
   "metadata": {
    "collapsed": false
   },
   "outputs": [],
   "source": [
    "df3 = pd.merge(df2,ind, on='Name')"
   ]
  },
  {
   "cell_type": "code",
   "execution_count": 12,
   "metadata": {
    "collapsed": false
   },
   "outputs": [
    {
     "data": {
      "text/html": [
       "<div>\n",
       "<table border=\"1\" class=\"dataframe\">\n",
       "  <thead>\n",
       "    <tr style=\"text-align: right;\">\n",
       "      <th></th>\n",
       "      <th>Name</th>\n",
       "      <th>EPS12</th>\n",
       "      <th>EPS13</th>\n",
       "      <th>EPS14</th>\n",
       "      <th>EPS15</th>\n",
       "      <th>EPS16</th>\n",
       "      <th>Rev12</th>\n",
       "      <th>Rev13</th>\n",
       "      <th>Rev14</th>\n",
       "      <th>Rev15</th>\n",
       "      <th>Rev16</th>\n",
       "      <th>NP12</th>\n",
       "      <th>NP13</th>\n",
       "      <th>NP14</th>\n",
       "      <th>NP15</th>\n",
       "      <th>NP16</th>\n",
       "      <th>PE</th>\n",
       "      <th>Ind</th>\n",
       "    </tr>\n",
       "  </thead>\n",
       "  <tbody>\n",
       "    <tr>\n",
       "      <th>0</th>\n",
       "      <td>2S</td>\n",
       "      <td>0.21</td>\n",
       "      <td>0.23</td>\n",
       "      <td>0.15</td>\n",
       "      <td>0.11</td>\n",
       "      <td>1.14</td>\n",
       "      <td>4,065.19</td>\n",
       "      <td>4,100.96</td>\n",
       "      <td>4,246.66</td>\n",
       "      <td>3,714.00</td>\n",
       "      <td>3,946.83</td>\n",
       "      <td>52.64</td>\n",
       "      <td>68.03</td>\n",
       "      <td>41.9</td>\n",
       "      <td>33.72</td>\n",
       "      <td>343.07</td>\n",
       "      <td>6.44</td>\n",
       "      <td>Industrial</td>\n",
       "    </tr>\n",
       "    <tr>\n",
       "      <th>1</th>\n",
       "      <td>A</td>\n",
       "      <td>0.12</td>\n",
       "      <td>0.02</td>\n",
       "      <td>0.04</td>\n",
       "      <td>0.22</td>\n",
       "      <td>0.27</td>\n",
       "      <td>1,835.16</td>\n",
       "      <td>1,807.77</td>\n",
       "      <td>2,559.35</td>\n",
       "      <td>5,453.70</td>\n",
       "      <td>4,724.97</td>\n",
       "      <td>94.35</td>\n",
       "      <td>13.78</td>\n",
       "      <td>41.27</td>\n",
       "      <td>216.69</td>\n",
       "      <td>263.34</td>\n",
       "      <td>27.94</td>\n",
       "      <td>Property &amp;amp; Construction/Property Development</td>\n",
       "    </tr>\n",
       "    <tr>\n",
       "      <th>2</th>\n",
       "      <td>AAV</td>\n",
       "      <td>3.44</td>\n",
       "      <td>0.22</td>\n",
       "      <td>0.04</td>\n",
       "      <td>0.22</td>\n",
       "      <td>0.39</td>\n",
       "      <td>31,246.04</td>\n",
       "      <td>24,413.84</td>\n",
       "      <td>26,275.30</td>\n",
       "      <td>30,463.58</td>\n",
       "      <td>33,130.30</td>\n",
       "      <td>15,648.57</td>\n",
       "      <td>1,042.76</td>\n",
       "      <td>183.18</td>\n",
       "      <td>1,078.48</td>\n",
       "      <td>1,869.46</td>\n",
       "      <td>20.85</td>\n",
       "      <td>Services/Transportation &amp;amp; Logistics</td>\n",
       "    </tr>\n",
       "    <tr>\n",
       "      <th>3</th>\n",
       "      <td>ABC</td>\n",
       "      <td>0.00</td>\n",
       "      <td>0.00</td>\n",
       "      <td>0.00</td>\n",
       "      <td>0.00</td>\n",
       "      <td>0.00</td>\n",
       "      <td>342.71</td>\n",
       "      <td>137.04</td>\n",
       "      <td>60.44</td>\n",
       "      <td>60.3</td>\n",
       "      <td>56.21</td>\n",
       "      <td>-56.29</td>\n",
       "      <td>-127.65</td>\n",
       "      <td>-52.1</td>\n",
       "      <td>-73.32</td>\n",
       "      <td>-108.68</td>\n",
       "      <td>0.00</td>\n",
       "      <td>Consumer Products/Fashion</td>\n",
       "    </tr>\n",
       "    <tr>\n",
       "      <th>4</th>\n",
       "      <td>ABICO</td>\n",
       "      <td>0.87</td>\n",
       "      <td>0.51</td>\n",
       "      <td>0.47</td>\n",
       "      <td>0.45</td>\n",
       "      <td>0.62</td>\n",
       "      <td>511.22</td>\n",
       "      <td>598.71</td>\n",
       "      <td>685.65</td>\n",
       "      <td>632.6</td>\n",
       "      <td>648.31</td>\n",
       "      <td>203.88</td>\n",
       "      <td>118.92</td>\n",
       "      <td>110.02</td>\n",
       "      <td>105.23</td>\n",
       "      <td>146.41</td>\n",
       "      <td>16.86</td>\n",
       "      <td>Agro &amp;amp; Food Industry</td>\n",
       "    </tr>\n",
       "  </tbody>\n",
       "</table>\n",
       "</div>"
      ],
      "text/plain": [
       "    Name  EPS12  EPS13  EPS14  EPS15  EPS16      Rev12      Rev13      Rev14  \\\n",
       "0     2S   0.21   0.23   0.15   0.11   1.14   4,065.19   4,100.96   4,246.66   \n",
       "1      A   0.12   0.02   0.04   0.22   0.27   1,835.16   1,807.77   2,559.35   \n",
       "2    AAV   3.44   0.22   0.04   0.22   0.39  31,246.04  24,413.84  26,275.30   \n",
       "3    ABC   0.00   0.00   0.00   0.00   0.00     342.71     137.04      60.44   \n",
       "4  ABICO   0.87   0.51   0.47   0.45   0.62     511.22     598.71     685.65   \n",
       "\n",
       "       Rev15      Rev16       NP12      NP13    NP14      NP15      NP16  \\\n",
       "0   3,714.00   3,946.83      52.64     68.03    41.9     33.72    343.07   \n",
       "1   5,453.70   4,724.97      94.35     13.78   41.27    216.69    263.34   \n",
       "2  30,463.58  33,130.30  15,648.57  1,042.76  183.18  1,078.48  1,869.46   \n",
       "3       60.3      56.21     -56.29   -127.65   -52.1    -73.32   -108.68   \n",
       "4      632.6     648.31     203.88    118.92  110.02    105.23    146.41   \n",
       "\n",
       "      PE                                               Ind  \n",
       "0   6.44                                        Industrial  \n",
       "1  27.94  Property &amp; Construction/Property Development  \n",
       "2  20.85           Services/Transportation &amp; Logistics  \n",
       "3   0.00                         Consumer Products/Fashion  \n",
       "4  16.86                          Agro &amp; Food Industry  "
      ]
     },
     "execution_count": 12,
     "metadata": {},
     "output_type": "execute_result"
    }
   ],
   "source": [
    "df3.head()"
   ]
  },
  {
   "cell_type": "code",
   "execution_count": 13,
   "metadata": {
    "collapsed": false
   },
   "outputs": [],
   "source": [
    "#df_div = df3.pivot('Ind','Name','EPS16')\n",
    "#df_div\n",
    "\n",
    "#group1 = df3['PE'].groupby(df3['Ind'])\n",
    "#DataFrame(group1.mean())\n",
    "\n",
    "#df3.groupby(['Ind','Name']).mean()\n",
    "#?? ## display only EPS"
   ]
  },
  {
   "cell_type": "code",
   "execution_count": 14,
   "metadata": {
    "collapsed": true
   },
   "outputs": [],
   "source": [
    "df3['ind'] = 'Industrial'"
   ]
  },
  {
   "cell_type": "code",
   "execution_count": 15,
   "metadata": {
    "collapsed": false
   },
   "outputs": [],
   "source": [
    "#DataFrame(df3[['Ind','Name']])"
   ]
  },
  {
   "cell_type": "code",
   "execution_count": 16,
   "metadata": {
    "collapsed": false
   },
   "outputs": [
    {
     "ename": "SyntaxError",
     "evalue": "unexpected EOF while parsing (<ipython-input-16-117cf0a79acc>, line 1)",
     "output_type": "error",
     "traceback": [
      "\u001b[0;36m  File \u001b[0;32m\"<ipython-input-16-117cf0a79acc>\"\u001b[0;36m, line \u001b[0;32m1\u001b[0m\n\u001b[0;31m    df3[df3['Ind'].str.contains('Industrial',na = False)\u001b[0m\n\u001b[0m                                                        ^\u001b[0m\n\u001b[0;31mSyntaxError\u001b[0m\u001b[0;31m:\u001b[0m unexpected EOF while parsing\n"
     ]
    }
   ],
   "source": [
    "df3[df3['Ind'].str.contains('Industrial',na = False)"
   ]
  },
  {
   "cell_type": "code",
   "execution_count": null,
   "metadata": {
    "collapsed": true
   },
   "outputs": [],
   "source": [
    "# Let's begin by importing what we'll need (You'll probably be copying and pasting this a lot)\n",
    "\n",
    "# The normal imports\n",
    "import numpy as np\n",
    "from numpy.random import randn\n",
    "import pandas as pd\n",
    "\n",
    "# Import the stats librayr from numpy\n",
    "from scipy import stats\n",
    "\n",
    "# These are the plotting modules adn libraries we'll use:\n",
    "import matplotlib as mpl\n",
    "import matplotlib.pyplot as plt\n",
    "import seaborn as sns\n",
    "\n",
    "# Command so that plots appear in the iPython Notebook\n",
    "%matplotlib inline"
   ]
  },
  {
   "cell_type": "code",
   "execution_count": null,
   "metadata": {
    "collapsed": false
   },
   "outputs": [],
   "source": [
    "df4 = df3[['Name','PE']]\n",
    "df5 = df3['PE']\n",
    "df6 = df3['NP16']\n",
    "df6"
   ]
  },
  {
   "cell_type": "code",
   "execution_count": null,
   "metadata": {
    "collapsed": false
   },
   "outputs": [],
   "source": [
    "#plt.hist(df4)\n",
    "\n",
    "sns.jointplot(df5,df6)"
   ]
  },
  {
   "cell_type": "code",
   "execution_count": null,
   "metadata": {
    "collapsed": false
   },
   "outputs": [],
   "source": [
    "%matplotlib inline\n",
    "df3.plot(kind='scatter',x='EPS15',y='PE')"
   ]
  },
  {
   "cell_type": "code",
   "execution_count": 25,
   "metadata": {
    "collapsed": false
   },
   "outputs": [
    {
     "data": {
      "text/plain": [
       "<seaborn.axisgrid.FacetGrid at 0x18a7e160>"
      ]
     },
     "execution_count": 25,
     "metadata": {},
     "output_type": "execute_result"
    },
    {
     "data": {
      "image/png": "[encoded data removed]",
      "text/plain": [
       "<matplotlib.figure.Figure at 0x18a7e710>"
      ]
     },
     "metadata": {},
     "output_type": "display_data"
    }
   ],
   "source": [
    "sns.factorplot('Ind',data = df3, kind='count',aspect=5)"
   ]
  },
  {
   "cell_type": "code",
   "execution_count": 46,
   "metadata": {
    "collapsed": false
   },
   "outputs": [
    {
     "name": "stdout",
     "output_type": "stream",
     "text": [
      "<pandas.core.groupby.DataFrameGroupBy object at 0x000000001DABEDA0>\n"
     ]
    }
   ],
   "source": [
    "df_table = df3.groupby(['Ind'],axis=1) #??"
   ]
  },
  {
   "cell_type": "code",
   "execution_count": null,
   "metadata": {
    "collapsed": true
   },
   "outputs": [],
   "source": []
  }
 ],
 "metadata": {
  "kernelspec": {
   "display_name": "Python 2",
   "language": "python",
   "name": "python2"
  },
  "language_info": {
   "codemirror_mode": {
    "name": "ipython",
    "version": 2
   },
   "file_extension": ".py",
   "mimetype": "text/x-python",
   "name": "python",
   "nbconvert_exporter": "python",
   "pygments_lexer": "ipython2",
   "version": "2.7.13"
  }
 },
 "nbformat": 4,
 "nbformat_minor": 2
}
